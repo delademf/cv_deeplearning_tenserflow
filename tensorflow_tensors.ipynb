{
  "nbformat": 4,
  "nbformat_minor": 0,
  "metadata": {
    "colab": {
      "provenance": [],
      "authorship_tag": "ABX9TyOztyJVNQz5wRfe9mDq5Ug7",
      "include_colab_link": true
    },
    "kernelspec": {
      "name": "python3",
      "display_name": "Python 3"
    },
    "language_info": {
      "name": "python"
    }
  },
  "cells": [
    {
      "cell_type": "markdown",
      "metadata": {
        "id": "view-in-github",
        "colab_type": "text"
      },
      "source": [
        "<a href=\"https://colab.research.google.com/github/delademf/cv_deeplearning_tenserflow/blob/main/tensorflow_tensors.ipynb\" target=\"_parent\"><img src=\"https://colab.research.google.com/assets/colab-badge.svg\" alt=\"Open In Colab\"/></a>"
      ]
    },
    {
      "cell_type": "code",
      "execution_count": 8,
      "metadata": {
        "id": "xhEfCM8Rk4ia"
      },
      "outputs": [],
      "source": [
        "import tensorflow as tf"
      ]
    },
    {
      "cell_type": "code",
      "source": [
        "tensor_zero_d = tf.constant(4)\n",
        "print(tensor_zero_d)"
      ],
      "metadata": {
        "colab": {
          "base_uri": "https://localhost:8080/"
        },
        "id": "oLQRcgpQk-zP",
        "outputId": "53204024-ea58-4e79-9968-9a1ec20233c1"
      },
      "execution_count": 9,
      "outputs": [
        {
          "output_type": "stream",
          "name": "stdout",
          "text": [
            "tf.Tensor(4, shape=(), dtype=int32)\n"
          ]
        }
      ]
    },
    {
      "cell_type": "code",
      "source": [
        "tensor_one_d = tf.constant([2,1,4])\n",
        "print(tensor_one_d)"
      ],
      "metadata": {
        "colab": {
          "base_uri": "https://localhost:8080/"
        },
        "id": "B1wYWJysmRnI",
        "outputId": "93b3a4dd-dc06-4a99-ae21-213a3e0725d6"
      },
      "execution_count": 10,
      "outputs": [
        {
          "output_type": "stream",
          "name": "stdout",
          "text": [
            "tf.Tensor([2 1 4], shape=(3,), dtype=int32)\n"
          ]
        }
      ]
    },
    {
      "cell_type": "code",
      "source": [
        "tensor_two_d = tf.constant([[2,1,4],\n",
        "                            [3,1,5],\n",
        "                            [2,4,7],\n",
        "                            [9,5,6]])\n",
        "print(tensor_two_d)"
      ],
      "metadata": {
        "colab": {
          "base_uri": "https://localhost:8080/"
        },
        "id": "JLpKU6U3nLoH",
        "outputId": "f07e244a-341a-4a07-b110-f7257681a9fb"
      },
      "execution_count": 11,
      "outputs": [
        {
          "output_type": "stream",
          "name": "stdout",
          "text": [
            "tf.Tensor(\n",
            "[[2 1 4]\n",
            " [3 1 5]\n",
            " [2 4 7]\n",
            " [9 5 6]], shape=(4, 3), dtype=int32)\n"
          ]
        }
      ]
    },
    {
      "cell_type": "code",
      "source": [
        "tensor_three_d = tf.constant([[[1,3,6],\n",
        "                                [1,4,5]],\n",
        "                              [[3,6,6],\n",
        "                                [9,4,5]],\n",
        "                              [[4,3,7],\n",
        "                                [7,4,5]],\n",
        "                              [[11,36,6],\n",
        "                                [1,34,0]],\n",
        "                             ])\n",
        "print(tensor_three_d)"
      ],
      "metadata": {
        "colab": {
          "base_uri": "https://localhost:8080/"
        },
        "id": "CzTEuXISolB5",
        "outputId": "2aee54f8-0c1e-468a-8183-5981404e0f23"
      },
      "execution_count": 12,
      "outputs": [
        {
          "output_type": "stream",
          "name": "stdout",
          "text": [
            "tf.Tensor(\n",
            "[[[ 1  3  6]\n",
            "  [ 1  4  5]]\n",
            "\n",
            " [[ 3  6  6]\n",
            "  [ 9  4  5]]\n",
            "\n",
            " [[ 4  3  7]\n",
            "  [ 7  4  5]]\n",
            "\n",
            " [[11 36  6]\n",
            "  [ 1 34  0]]], shape=(4, 2, 3), dtype=int32)\n"
          ]
        }
      ]
    },
    {
      "cell_type": "code",
      "source": [
        "print(tensor_three_d.shape)"
      ],
      "metadata": {
        "colab": {
          "base_uri": "https://localhost:8080/"
        },
        "id": "1f9gYbvpprfo",
        "outputId": "186bb37f-0dfe-461b-de7c-d72fcae34256"
      },
      "execution_count": 13,
      "outputs": [
        {
          "output_type": "stream",
          "name": "stdout",
          "text": [
            "(4, 2, 3)\n"
          ]
        }
      ]
    },
    {
      "cell_type": "code",
      "source": [
        "print(tensor_three_d.ndim)"
      ],
      "metadata": {
        "colab": {
          "base_uri": "https://localhost:8080/"
        },
        "id": "-4zSNTdAqJgZ",
        "outputId": "7cc82a70-52cd-43fe-fb1b-b0ce98f7b6cb"
      },
      "execution_count": 14,
      "outputs": [
        {
          "output_type": "stream",
          "name": "stdout",
          "text": [
            "3\n"
          ]
        }
      ]
    },
    {
      "cell_type": "markdown",
      "source": [
        "the above output \"3\" shoe the dimension"
      ],
      "metadata": {
        "id": "es24RwggqSaN"
      }
    },
    {
      "cell_type": "code",
      "source": [
        "tensor_four_d = tf.constant([[[[1,3,6],\n",
        "                                [1,4,5]],\n",
        "                              [[3,6,6],\n",
        "                                [9,4,5]],\n",
        "                              [[4,3,7],\n",
        "                                [7,4,5]],\n",
        "                              [[11,36,6],\n",
        "                                [1,34,0]],\n",
        "                             ],\n",
        "                             [[[1,3,6],\n",
        "                                [1,4,5]],\n",
        "                              [[3,6,6],\n",
        "                                [9,4,5]],\n",
        "                              [[4,3,7],\n",
        "                                [7,4,5]],\n",
        "                              [[11,36,6],\n",
        "                                [1,34,0]],\n",
        "                             ],\n",
        "                             [[[1,3,6],\n",
        "                                [1,4,5]],\n",
        "                              [[3,6,6],\n",
        "                                [9,4,5]],\n",
        "                              [[4,3,7],\n",
        "                                [7,4,5]],\n",
        "                              [[11,36,6],\n",
        "                                [1,34,0]],\n",
        "                             ]\n",
        "])\n",
        "print(tensor_four_d)"
      ],
      "metadata": {
        "colab": {
          "base_uri": "https://localhost:8080/"
        },
        "id": "fF0_TC5gp_LA",
        "outputId": "d1d41bd7-4588-4bd9-d8f6-233a8131127f"
      },
      "execution_count": 15,
      "outputs": [
        {
          "output_type": "stream",
          "name": "stdout",
          "text": [
            "tf.Tensor(\n",
            "[[[[ 1  3  6]\n",
            "   [ 1  4  5]]\n",
            "\n",
            "  [[ 3  6  6]\n",
            "   [ 9  4  5]]\n",
            "\n",
            "  [[ 4  3  7]\n",
            "   [ 7  4  5]]\n",
            "\n",
            "  [[11 36  6]\n",
            "   [ 1 34  0]]]\n",
            "\n",
            "\n",
            " [[[ 1  3  6]\n",
            "   [ 1  4  5]]\n",
            "\n",
            "  [[ 3  6  6]\n",
            "   [ 9  4  5]]\n",
            "\n",
            "  [[ 4  3  7]\n",
            "   [ 7  4  5]]\n",
            "\n",
            "  [[11 36  6]\n",
            "   [ 1 34  0]]]\n",
            "\n",
            "\n",
            " [[[ 1  3  6]\n",
            "   [ 1  4  5]]\n",
            "\n",
            "  [[ 3  6  6]\n",
            "   [ 9  4  5]]\n",
            "\n",
            "  [[ 4  3  7]\n",
            "   [ 7  4  5]]\n",
            "\n",
            "  [[11 36  6]\n",
            "   [ 1 34  0]]]], shape=(3, 4, 2, 3), dtype=int32)\n"
          ]
        }
      ]
    },
    {
      "cell_type": "markdown",
      "source": [
        "casting expalnation"
      ],
      "metadata": {
        "id": "0wwRiV4ab7fr"
      }
    },
    {
      "cell_type": "code",
      "source": [
        "tensor_one_d = tf.constant([1,2.0,-3,90],dtype= tf.float32)\n",
        "casted_tensor_one_d = tf.cast(tensor_one_d,dtype= tf.int16)\n",
        "print(tensor_one_d)\n",
        "print(casted_tensor_one_d)"
      ],
      "metadata": {
        "colab": {
          "base_uri": "https://localhost:8080/"
        },
        "id": "zw0IDqnzb4RY",
        "outputId": "03dc185a-5c32-4211-ed54-26d34dc3b77b"
      },
      "execution_count": 22,
      "outputs": [
        {
          "output_type": "stream",
          "name": "stdout",
          "text": [
            "tf.Tensor([ 1.  2. -3. 90.], shape=(4,), dtype=float32)\n",
            "tf.Tensor([ 1  2 -3 90], shape=(4,), dtype=int16)\n"
          ]
        }
      ]
    },
    {
      "cell_type": "markdown",
      "source": [
        "you can use a boolean d tpye"
      ],
      "metadata": {
        "id": "EzuM_NRHiA8i"
      }
    },
    {
      "cell_type": "code",
      "source": [
        "tensor_bool = ([True,False,True])\n",
        "print(tensor_bool)"
      ],
      "metadata": {
        "colab": {
          "base_uri": "https://localhost:8080/"
        },
        "id": "mmSjqR_fiFYa",
        "outputId": "2dcc1e3a-3f02-4a48-bd1d-8976bc30ceb6"
      },
      "execution_count": 24,
      "outputs": [
        {
          "output_type": "stream",
          "name": "stdout",
          "text": [
            "[True, False, True]\n"
          ]
        }
      ]
    },
    {
      "cell_type": "code",
      "source": [
        "tensor_one_d = tf.constant([1,2,0,-3,90],dtype= tf.float32)\n",
        "casted_tensor_one_d = tf.cast(tensor_one_d,dtype= tf.bool)\n",
        "print(tensor_one_d)\n",
        "print(casted_tensor_one_d)"
      ],
      "metadata": {
        "colab": {
          "base_uri": "https://localhost:8080/"
        },
        "id": "45ZMreh6hKn6",
        "outputId": "cda68e2d-3d14-4927-937c-d4cba1288c36"
      },
      "execution_count": 23,
      "outputs": [
        {
          "output_type": "stream",
          "name": "stdout",
          "text": [
            "tf.Tensor([ 1.  2.  0. -3. 90.], shape=(5,), dtype=float32)\n",
            "tf.Tensor([ True  True False  True  True], shape=(5,), dtype=bool)\n"
          ]
        }
      ]
    },
    {
      "cell_type": "code",
      "source": [
        "import numpy as np"
      ],
      "metadata": {
        "id": "4G9qzDiUl75c"
      },
      "execution_count": 26,
      "outputs": []
    },
    {
      "cell_type": "code",
      "source": [
        "np_array = np.array([1,2,3])\n",
        "print(np_array)"
      ],
      "metadata": {
        "colab": {
          "base_uri": "https://localhost:8080/"
        },
        "id": "Fo4ZbPphmB--",
        "outputId": "7531cb2e-3e62-4a9a-b5c5-c319e38e9188"
      },
      "execution_count": 27,
      "outputs": [
        {
          "output_type": "stream",
          "name": "stdout",
          "text": [
            "[1 2 3]\n"
          ]
        }
      ]
    },
    {
      "cell_type": "code",
      "source": [
        "converted_tensor = tf.convert_to_tensor(np_array)\n",
        "print(converted_tensor)"
      ],
      "metadata": {
        "colab": {
          "base_uri": "https://localhost:8080/"
        },
        "id": "-rjW7sKLy1Q8",
        "outputId": "df95f26d-2ca9-4d0d-ac1d-bc5c6a597156"
      },
      "execution_count": 28,
      "outputs": [
        {
          "output_type": "stream",
          "name": "stdout",
          "text": [
            "tf.Tensor([1 2 3], shape=(3,), dtype=int64)\n"
          ]
        }
      ]
    },
    {
      "cell_type": "code",
      "source": [
        "# this produces an identity matrix\n",
        "eye_tensor=tf.eye(\n",
        "    num_rows=3,\n",
        "    num_columns=None,\n",
        "    batch_shape=None,#this talk about the number of batches for the matrics\n",
        "    dtype=tf.dtypes.float32,\n",
        "    name=None\n",
        ")\n",
        "print(eye_tensor)\n"
      ],
      "metadata": {
        "colab": {
          "base_uri": "https://localhost:8080/"
        },
        "id": "FfuSu9x91Zrz",
        "outputId": "81ef3676-7989-41d6-e760-a5aed4f6046b"
      },
      "execution_count": 31,
      "outputs": [
        {
          "output_type": "stream",
          "name": "stdout",
          "text": [
            "tf.Tensor(\n",
            "[[1. 0. 0.]\n",
            " [0. 1. 0.]\n",
            " [0. 0. 1.]], shape=(3, 3), dtype=float32)\n"
          ]
        }
      ]
    },
    {
      "cell_type": "markdown",
      "source": [
        "the code below fills the dimensioned matrix with the value 5 or any your choose but in all postions"
      ],
      "metadata": {
        "id": "BhD_mTpX8B05"
      }
    },
    {
      "cell_type": "code",
      "source": [
        "fill_tensor=tf.fill(\n",
        "    [3,4], 5, name=None\n",
        ")\n",
        "print (fill_tensor)"
      ],
      "metadata": {
        "colab": {
          "base_uri": "https://localhost:8080/"
        },
        "id": "eMbjPLKF54Lz",
        "outputId": "87ca4c8d-b054-4361-d9b2-2b5ec3d883f6"
      },
      "execution_count": 33,
      "outputs": [
        {
          "output_type": "stream",
          "name": "stdout",
          "text": [
            "tf.Tensor(\n",
            "[[5 5 5 5]\n",
            " [5 5 5 5]\n",
            " [5 5 5 5]], shape=(3, 4), dtype=int32)\n"
          ]
        }
      ]
    },
    {
      "cell_type": "markdown",
      "source": [
        "fill the dimensioned matrix with only one"
      ],
      "metadata": {
        "id": "Pe5hwVK_8uEs"
      }
    },
    {
      "cell_type": "code",
      "source": [
        "ones_tensor = tf.ones(\n",
        "    shape=[3,4],\n",
        "    dtype=tf.dtypes.float32,\n",
        "    name=None\n",
        ")\n",
        "print(ones_tensor)"
      ],
      "metadata": {
        "colab": {
          "base_uri": "https://localhost:8080/"
        },
        "id": "s6wI8ctS8aOB",
        "outputId": "72831efa-098b-4ca8-84b8-48ccd0ecfd5e"
      },
      "execution_count": 35,
      "outputs": [
        {
          "output_type": "stream",
          "name": "stdout",
          "text": [
            "tf.Tensor(\n",
            "[[1. 1. 1. 1.]\n",
            " [1. 1. 1. 1.]\n",
            " [1. 1. 1. 1.]], shape=(3, 4), dtype=float32)\n"
          ]
        }
      ]
    },
    {
      "cell_type": "code",
      "source": [
        "zeros_tensor = tf.zeros(\n",
        "    shape=[3,4],\n",
        "    dtype=tf.dtypes.float32,\n",
        "    name=None\n",
        ")\n",
        "print(zeros_tensor)"
      ],
      "metadata": {
        "colab": {
          "base_uri": "https://localhost:8080/"
        },
        "id": "j1oBFbFM_a1N",
        "outputId": "e72f857c-ebc1-44df-9c91-3004192c00ff"
      },
      "execution_count": 36,
      "outputs": [
        {
          "output_type": "stream",
          "name": "stdout",
          "text": [
            "tf.Tensor(\n",
            "[[0. 0. 0. 0.]\n",
            " [0. 0. 0. 0.]\n",
            " [0. 0. 0. 0.]], shape=(3, 4), dtype=float32)\n"
          ]
        }
      ]
    },
    {
      "cell_type": "code",
      "source": [
        "print(tensor_three_d.shape)"
      ],
      "metadata": {
        "colab": {
          "base_uri": "https://localhost:8080/"
        },
        "id": "jzzd-CjPBNfj",
        "outputId": "29e37df7-e168-4bb6-9588-22ac4c42138c"
      },
      "execution_count": 37,
      "outputs": [
        {
          "output_type": "stream",
          "name": "stdout",
          "text": [
            "(4, 2, 3)\n"
          ]
        }
      ]
    },
    {
      "cell_type": "markdown",
      "source": [
        "The rank of a tensor is the number of indices required to uniquely select each element of the tensor"
      ],
      "metadata": {
        "id": "btCrB7uDCmbO"
      }
    },
    {
      "cell_type": "code",
      "source": [
        "t = tf.constant([[1,4,6],[9,3,5]])\n",
        "tf.rank(t)"
      ],
      "metadata": {
        "colab": {
          "base_uri": "https://localhost:8080/"
        },
        "id": "G9EnYvGqBUc-",
        "outputId": "2adac69a-a27f-4813-f0de-82913a7ab753"
      },
      "execution_count": 39,
      "outputs": [
        {
          "output_type": "execute_result",
          "data": {
            "text/plain": [
              "<tf.Tensor: shape=(), dtype=int32, numpy=2>"
            ]
          },
          "metadata": {},
          "execution_count": 39
        }
      ]
    },
    {
      "cell_type": "code",
      "source": [
        "t = tf.constant([[1,4,6],[9,3,5]])\n",
        "tf.size(t)"
      ],
      "metadata": {
        "colab": {
          "base_uri": "https://localhost:8080/"
        },
        "id": "Jtv7eJyxCoLE",
        "outputId": "b7d3b48d-e2d9-43d6-c15e-b969dd3430af"
      },
      "execution_count": 40,
      "outputs": [
        {
          "output_type": "execute_result",
          "data": {
            "text/plain": [
              "<tf.Tensor: shape=(), dtype=int32, numpy=6>"
            ]
          },
          "metadata": {},
          "execution_count": 40
        }
      ]
    },
    {
      "cell_type": "markdown",
      "source": [
        "decrease in sigma make curve narrower"
      ],
      "metadata": {
        "id": "8Ir8U4boKXs9"
      }
    },
    {
      "cell_type": "code",
      "source": [
        "random_tensor=tf.random.normal(\n",
        "    shape=[3,4],\n",
        "    mean=0.0,\n",
        "    stddev=1.0,\n",
        "    dtype=tf.dtypes.float32,\n",
        "    seed=None,\n",
        "    name=None\n",
        ")\n",
        "print(random_tensor)"
      ],
      "metadata": {
        "colab": {
          "base_uri": "https://localhost:8080/"
        },
        "id": "E_da94ZaEJwQ",
        "outputId": "0e4cab2b-5d56-4608-ea3b-37910fbbcbea"
      },
      "execution_count": 44,
      "outputs": [
        {
          "output_type": "stream",
          "name": "stdout",
          "text": [
            "tf.Tensor(\n",
            "[[ 1.5740057   2.1918716  -0.01999852 -0.8914747 ]\n",
            " [ 0.70352685  0.2698522   0.51343876  2.3300931 ]\n",
            " [-0.44288072 -0.01650855  1.2066219  -0.6623804 ]], shape=(3, 4), dtype=float32)\n"
          ]
        }
      ]
    },
    {
      "cell_type": "markdown",
      "source": [
        "the difference between the uniform and the normal is that with the random.uniform the chances of it getting picked are uniform\n"
      ],
      "metadata": {
        "id": "XR9h7S-uMDk3"
      }
    },
    {
      "cell_type": "code",
      "source": [
        "random_uniform=tf.random.uniform(\n",
        "    shape=[3,3],\n",
        "    minval=0,\n",
        "    maxval=100,\n",
        "    dtype=tf.dtypes.int32,\n",
        "    seed=None,\n",
        "    name=None\n",
        ")\n",
        "print(random_uniform)"
      ],
      "metadata": {
        "colab": {
          "base_uri": "https://localhost:8080/"
        },
        "id": "BzjJrBbELvIm",
        "outputId": "352a33be-bd06-4b64-ce17-47f8d74f111e"
      },
      "execution_count": 50,
      "outputs": [
        {
          "output_type": "stream",
          "name": "stdout",
          "text": [
            "tf.Tensor(\n",
            "[[ 5 73 71]\n",
            " [96 96 17]\n",
            " [89 80 59]], shape=(3, 3), dtype=int32)\n"
          ]
        }
      ]
    }
  ]
}